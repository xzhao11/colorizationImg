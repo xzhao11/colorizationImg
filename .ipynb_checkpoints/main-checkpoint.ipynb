{
 "cells": [
  {
   "cell_type": "code",
   "execution_count": 14,
   "id": "5b9f516d-56d8-4cf5-b422-725b1e1867f9",
   "metadata": {},
   "outputs": [
    {
     "name": "stdout",
     "output_type": "stream",
     "text": [
      "Requirement already satisfied: tensorflow in /home/curlyz/.local/lib/python3.8/site-packages (2.8.0)\n",
      "Requirement already satisfied: absl-py>=0.4.0 in /home/curlyz/.local/lib/python3.8/site-packages (from tensorflow) (1.0.0)\n",
      "Requirement already satisfied: flatbuffers>=1.12 in /home/curlyz/.local/lib/python3.8/site-packages (from tensorflow) (2.0)\n",
      "Requirement already satisfied: six>=1.12.0 in /usr/lib/python3/dist-packages (from tensorflow) (1.14.0)\n",
      "Requirement already satisfied: numpy>=1.20 in /home/curlyz/.local/lib/python3.8/site-packages (from tensorflow) (1.22.3)\n",
      "Requirement already satisfied: setuptools in /usr/lib/python3/dist-packages (from tensorflow) (45.2.0)\n",
      "Requirement already satisfied: h5py>=2.9.0 in /home/curlyz/.local/lib/python3.8/site-packages (from tensorflow) (3.6.0)\n",
      "Requirement already satisfied: protobuf>=3.9.2 in /home/curlyz/.local/lib/python3.8/site-packages (from tensorflow) (3.20.1)\n",
      "Requirement already satisfied: grpcio<2.0,>=1.24.3 in /home/curlyz/.local/lib/python3.8/site-packages (from tensorflow) (1.46.0)\n",
      "Requirement already satisfied: astunparse>=1.6.0 in /home/curlyz/.local/lib/python3.8/site-packages (from tensorflow) (1.6.3)\n",
      "Requirement already satisfied: typing-extensions>=3.6.6 in /home/curlyz/.local/lib/python3.8/site-packages (from tensorflow) (4.2.0)\n",
      "Requirement already satisfied: termcolor>=1.1.0 in /home/curlyz/.local/lib/python3.8/site-packages (from tensorflow) (1.1.0)\n",
      "Requirement already satisfied: tf-estimator-nightly==2.8.0.dev2021122109 in /home/curlyz/.local/lib/python3.8/site-packages (from tensorflow) (2.8.0.dev2021122109)\n",
      "Requirement already satisfied: tensorboard<2.9,>=2.8 in /home/curlyz/.local/lib/python3.8/site-packages (from tensorflow) (2.8.0)\n",
      "Requirement already satisfied: keras-preprocessing>=1.1.1 in /home/curlyz/.local/lib/python3.8/site-packages (from tensorflow) (1.1.2)\n",
      "Requirement already satisfied: libclang>=9.0.1 in /home/curlyz/.local/lib/python3.8/site-packages (from tensorflow) (14.0.1)\n",
      "Requirement already satisfied: google-pasta>=0.1.1 in /home/curlyz/.local/lib/python3.8/site-packages (from tensorflow) (0.2.0)\n",
      "Requirement already satisfied: wrapt>=1.11.0 in /home/curlyz/.local/lib/python3.8/site-packages (from tensorflow) (1.14.1)\n",
      "Requirement already satisfied: gast>=0.2.1 in /home/curlyz/.local/lib/python3.8/site-packages (from tensorflow) (0.5.3)\n",
      "Requirement already satisfied: opt-einsum>=2.3.2 in /home/curlyz/.local/lib/python3.8/site-packages (from tensorflow) (3.3.0)\n",
      "Requirement already satisfied: keras<2.9,>=2.8.0rc0 in /home/curlyz/.local/lib/python3.8/site-packages (from tensorflow) (2.8.0)\n",
      "Requirement already satisfied: tensorflow-io-gcs-filesystem>=0.23.1 in /home/curlyz/.local/lib/python3.8/site-packages (from tensorflow) (0.25.0)\n",
      "Requirement already satisfied: wheel<1.0,>=0.23.0 in /usr/lib/python3/dist-packages (from astunparse>=1.6.0->tensorflow) (0.34.2)\n",
      "Requirement already satisfied: google-auth-oauthlib<0.5,>=0.4.1 in /home/curlyz/.local/lib/python3.8/site-packages (from tensorboard<2.9,>=2.8->tensorflow) (0.4.6)\n",
      "Requirement already satisfied: markdown>=2.6.8 in /home/curlyz/.local/lib/python3.8/site-packages (from tensorboard<2.9,>=2.8->tensorflow) (3.3.4)\n",
      "Requirement already satisfied: werkzeug>=0.11.15 in /home/curlyz/.local/lib/python3.8/site-packages (from tensorboard<2.9,>=2.8->tensorflow) (2.0.1)\n",
      "Requirement already satisfied: tensorboard-data-server<0.7.0,>=0.6.0 in /home/curlyz/.local/lib/python3.8/site-packages (from tensorboard<2.9,>=2.8->tensorflow) (0.6.1)\n",
      "Requirement already satisfied: requests<3,>=2.21.0 in /home/curlyz/.local/lib/python3.8/site-packages (from tensorboard<2.9,>=2.8->tensorflow) (2.27.1)\n",
      "Requirement already satisfied: google-auth<3,>=1.6.3 in /home/curlyz/.local/lib/python3.8/site-packages (from tensorboard<2.9,>=2.8->tensorflow) (2.6.6)\n",
      "Requirement already satisfied: tensorboard-plugin-wit>=1.6.0 in /home/curlyz/.local/lib/python3.8/site-packages (from tensorboard<2.9,>=2.8->tensorflow) (1.8.1)\n",
      "Requirement already satisfied: requests-oauthlib>=0.7.0 in /home/curlyz/.local/lib/python3.8/site-packages (from google-auth-oauthlib<0.5,>=0.4.1->tensorboard<2.9,>=2.8->tensorflow) (1.3.1)\n",
      "Requirement already satisfied: urllib3<1.27,>=1.21.1 in /usr/lib/python3/dist-packages (from requests<3,>=2.21.0->tensorboard<2.9,>=2.8->tensorflow) (1.25.8)\n",
      "Requirement already satisfied: certifi>=2017.4.17 in /usr/lib/python3/dist-packages (from requests<3,>=2.21.0->tensorboard<2.9,>=2.8->tensorflow) (2019.11.28)\n",
      "Requirement already satisfied: idna<4,>=2.5; python_version >= \"3\" in /usr/lib/python3/dist-packages (from requests<3,>=2.21.0->tensorboard<2.9,>=2.8->tensorflow) (2.8)\n",
      "Requirement already satisfied: charset-normalizer~=2.0.0; python_version >= \"3\" in /home/curlyz/.local/lib/python3.8/site-packages (from requests<3,>=2.21.0->tensorboard<2.9,>=2.8->tensorflow) (2.0.12)\n",
      "Requirement already satisfied: rsa<5,>=3.1.4; python_version >= \"3.6\" in /home/curlyz/.local/lib/python3.8/site-packages (from google-auth<3,>=1.6.3->tensorboard<2.9,>=2.8->tensorflow) (4.8)\n",
      "Requirement already satisfied: pyasn1-modules>=0.2.1 in /home/curlyz/.local/lib/python3.8/site-packages (from google-auth<3,>=1.6.3->tensorboard<2.9,>=2.8->tensorflow) (0.2.8)\n",
      "Requirement already satisfied: cachetools<6.0,>=2.0.0 in /home/curlyz/.local/lib/python3.8/site-packages (from google-auth<3,>=1.6.3->tensorboard<2.9,>=2.8->tensorflow) (5.0.0)\n",
      "Requirement already satisfied: oauthlib>=3.0.0 in /usr/lib/python3/dist-packages (from requests-oauthlib>=0.7.0->google-auth-oauthlib<0.5,>=0.4.1->tensorboard<2.9,>=2.8->tensorflow) (3.1.0)\n",
      "Requirement already satisfied: pyasn1>=0.1.3 in /home/curlyz/.local/lib/python3.8/site-packages (from rsa<5,>=3.1.4; python_version >= \"3.6\"->google-auth<3,>=1.6.3->tensorboard<2.9,>=2.8->tensorflow) (0.4.8)\n",
      "Requirement already satisfied: numpy in /home/curlyz/.local/lib/python3.8/site-packages (1.22.3)\n",
      "Requirement already satisfied: tensorflow_datasets in /home/curlyz/.local/lib/python3.8/site-packages (4.5.2)\n",
      "Requirement already satisfied: protobuf>=3.12.2 in /home/curlyz/.local/lib/python3.8/site-packages (from tensorflow_datasets) (3.20.1)\n",
      "Requirement already satisfied: absl-py in /home/curlyz/.local/lib/python3.8/site-packages (from tensorflow_datasets) (1.0.0)\n",
      "Requirement already satisfied: tqdm in /home/curlyz/.local/lib/python3.8/site-packages (from tensorflow_datasets) (4.64.0)\n",
      "Requirement already satisfied: requests>=2.19.0 in /home/curlyz/.local/lib/python3.8/site-packages (from tensorflow_datasets) (2.27.1)\n",
      "Requirement already satisfied: six in /usr/lib/python3/dist-packages (from tensorflow_datasets) (1.14.0)\n",
      "Requirement already satisfied: numpy in /home/curlyz/.local/lib/python3.8/site-packages (from tensorflow_datasets) (1.22.3)\n",
      "Requirement already satisfied: importlib-resources; python_version < \"3.9\" in /home/curlyz/.local/lib/python3.8/site-packages (from tensorflow_datasets) (5.7.1)\n",
      "Requirement already satisfied: tensorflow-metadata in /home/curlyz/.local/lib/python3.8/site-packages (from tensorflow_datasets) (1.7.0)\n",
      "Requirement already satisfied: termcolor in /home/curlyz/.local/lib/python3.8/site-packages (from tensorflow_datasets) (1.1.0)\n",
      "Requirement already satisfied: promise in /home/curlyz/.local/lib/python3.8/site-packages (from tensorflow_datasets) (2.3)\n",
      "Requirement already satisfied: dill in /home/curlyz/.local/lib/python3.8/site-packages (from tensorflow_datasets) (0.3.4)\n",
      "Requirement already satisfied: charset-normalizer~=2.0.0; python_version >= \"3\" in /home/curlyz/.local/lib/python3.8/site-packages (from requests>=2.19.0->tensorflow_datasets) (2.0.12)\n",
      "Requirement already satisfied: urllib3<1.27,>=1.21.1 in /usr/lib/python3/dist-packages (from requests>=2.19.0->tensorflow_datasets) (1.25.8)\n",
      "Requirement already satisfied: certifi>=2017.4.17 in /usr/lib/python3/dist-packages (from requests>=2.19.0->tensorflow_datasets) (2019.11.28)\n",
      "Requirement already satisfied: idna<4,>=2.5; python_version >= \"3\" in /usr/lib/python3/dist-packages (from requests>=2.19.0->tensorflow_datasets) (2.8)\n",
      "Requirement already satisfied: zipp>=3.1.0; python_version < \"3.10\" in /home/curlyz/.local/lib/python3.8/site-packages (from importlib-resources; python_version < \"3.9\"->tensorflow_datasets) (3.8.0)\n",
      "Requirement already satisfied: googleapis-common-protos<2,>=1.52.0 in /home/curlyz/.local/lib/python3.8/site-packages (from tensorflow-metadata->tensorflow_datasets) (1.56.0)\n",
      "Requirement already satisfied: matplotlib in /home/curlyz/.local/lib/python3.8/site-packages (3.5.2)\n",
      "Requirement already satisfied: pyparsing>=2.2.1 in /home/curlyz/.local/lib/python3.8/site-packages (from matplotlib) (3.0.8)\n",
      "Requirement already satisfied: python-dateutil>=2.7 in /home/curlyz/.local/lib/python3.8/site-packages (from matplotlib) (2.8.2)\n",
      "Requirement already satisfied: kiwisolver>=1.0.1 in /home/curlyz/.local/lib/python3.8/site-packages (from matplotlib) (1.4.2)\n",
      "Requirement already satisfied: fonttools>=4.22.0 in /home/curlyz/.local/lib/python3.8/site-packages (from matplotlib) (4.33.3)\n",
      "Requirement already satisfied: numpy>=1.17 in /home/curlyz/.local/lib/python3.8/site-packages (from matplotlib) (1.22.3)\n",
      "Requirement already satisfied: packaging>=20.0 in /home/curlyz/.local/lib/python3.8/site-packages (from matplotlib) (21.3)\n",
      "Requirement already satisfied: cycler>=0.10 in /home/curlyz/.local/lib/python3.8/site-packages (from matplotlib) (0.11.0)\n",
      "Requirement already satisfied: pillow>=6.2.0 in /usr/lib/python3/dist-packages (from matplotlib) (7.0.0)\n",
      "Requirement already satisfied: six>=1.5 in /usr/lib/python3/dist-packages (from python-dateutil>=2.7->matplotlib) (1.14.0)\n",
      "Collecting scikit-image\n",
      "  Downloading scikit_image-0.19.2-cp38-cp38-manylinux_2_17_x86_64.manylinux2014_x86_64.whl (14.0 MB)\n",
      "\u001b[K     |████████████████████████████████| 14.0 MB 3.4 MB/s eta 0:00:01     |██████████████▋                 | 6.4 MB 15.3 MB/s eta 0:00:01\n",
      "\u001b[?25hRequirement already satisfied: numpy>=1.17.0 in /home/curlyz/.local/lib/python3.8/site-packages (from scikit-image) (1.22.3)\n",
      "Requirement already satisfied: packaging>=20.0 in /home/curlyz/.local/lib/python3.8/site-packages (from scikit-image) (21.3)\n",
      "Collecting networkx>=2.2\n",
      "  Downloading networkx-2.8.1-py3-none-any.whl (2.0 MB)\n",
      "\u001b[K     |████████████████████████████████| 2.0 MB 10.6 MB/s eta 0:00:01\n",
      "\u001b[?25hCollecting imageio>=2.4.1\n",
      "  Downloading imageio-2.19.2-py3-none-any.whl (3.4 MB)\n",
      "\u001b[K     |████████████████████████████████| 3.4 MB 3.4 MB/s eta 0:00:01\n",
      "\u001b[?25hCollecting tifffile>=2019.7.26\n",
      "  Downloading tifffile-2022.5.4-py3-none-any.whl (195 kB)\n",
      "\u001b[K     |████████████████████████████████| 195 kB 4.7 MB/s eta 0:00:01\n",
      "\u001b[?25hCollecting PyWavelets>=1.1.1\n",
      "  Downloading PyWavelets-1.3.0-cp38-cp38-manylinux_2_17_x86_64.manylinux2014_x86_64.whl (6.9 MB)\n",
      "\u001b[K     |████████████████████████████████| 6.9 MB 8.1 MB/s eta 0:00:01     |██████████████████████          | 4.8 MB 490 kB/s eta 0:00:05\n",
      "\u001b[?25hCollecting scipy>=1.4.1\n",
      "  Downloading scipy-1.8.1-cp38-cp38-manylinux_2_17_x86_64.manylinux2014_x86_64.whl (41.6 MB)\n",
      "\u001b[K     |████████████████████████████████| 41.6 MB 1.7 MB/s eta 0:00:01     |██████████████████▉             | 24.5 MB 7.0 MB/s eta 0:00:03     |███████████████████████████▎    | 35.5 MB 3.9 MB/s eta 0:00:02     |███████████████████████████▋    | 35.9 MB 3.9 MB/s eta 0:00:02\n",
      "\u001b[?25hRequirement already satisfied: pillow!=7.1.0,!=7.1.1,!=8.3.0,>=6.1.0 in /usr/lib/python3/dist-packages (from scikit-image) (7.0.0)\n",
      "Requirement already satisfied: pyparsing!=3.0.5,>=2.0.2 in /home/curlyz/.local/lib/python3.8/site-packages (from packaging>=20.0->scikit-image) (3.0.8)\n",
      "\u001b[31mERROR: imageio 2.19.2 has requirement pillow>=8.3.2, but you'll have pillow 7.0.0 which is incompatible.\u001b[0m\n",
      "Installing collected packages: networkx, imageio, tifffile, PyWavelets, scipy, scikit-image\n",
      "Successfully installed PyWavelets-1.3.0 imageio-2.19.2 networkx-2.8.1 scikit-image-0.19.2 scipy-1.8.1 tifffile-2022.5.4\n"
     ]
    }
   ],
   "source": [
    "! pip install --user tensorflow\n",
    "! pip install --user numpy\n",
    "! pip install --user tensorflow_datasets\n",
    "! pip install --user matplotlib\n",
    "! pip install --user scikit-image"
   ]
  },
  {
   "cell_type": "code",
   "execution_count": 164,
   "id": "9cd4c740-2c83-4746-954a-cfb26ee54232",
   "metadata": {},
   "outputs": [],
   "source": [
    "import numpy as np\n",
    "import os\n",
    "import PIL\n",
    "import PIL.Image\n",
    "import tensorflow as tf\n",
    "from tensorflow import keras\n",
    "from tensorflow.keras import layers\n",
    "from keras.callbacks import TensorBoard\n",
    "from keras.preprocessing.image import load_img, array_to_img, img_to_array,ImageDataGenerator \n",
    "from skimage import io, color\n",
    "from keras.models import Sequential\n",
    "from keras.layers import Conv2D, UpSampling2D, InputLayer, Conv2DTranspose"
   ]
  },
  {
   "cell_type": "code",
   "execution_count": 2,
   "id": "d32719c2-cdf9-476c-8713-f25ad082e8e3",
   "metadata": {},
   "outputs": [
    {
     "name": "stdout",
     "output_type": "stream",
     "text": [
      "2.8.0\n"
     ]
    }
   ],
   "source": [
    "print(tf.__version__)\n"
   ]
  },
  {
   "cell_type": "code",
   "execution_count": 2,
   "id": "dcaced3f-331c-4c01-a1e5-8aebfb49d4d4",
   "metadata": {},
   "outputs": [],
   "source": [
    "def preprocessImg(path):\n",
    "    # image = keras.preprocessing.image.img_to_array(keras.preprocessing.image.load_img(path))\n",
    "    # image = np.array(image, dtype=float)\n",
    "    image= io.imread(path)\n",
    "    if image.shape[0] < 360 or image.shape[1] < 360:\n",
    "        return\n",
    "    image = image[0:360,0:360]\n",
    "    rgb = image[:,:,0:3]\n",
    "    # print(rgb.shape[0])\n",
    "    lab = color.rgb2lab(rgb)\n",
    "    # print(lab)\n",
    "    #L channel is the input to network\n",
    "    L = lab[:,:,0]\n",
    "    #A and B channel is the output from network\n",
    "    AB = lab[:,:,1:]\n",
    "    AB /= 128\n",
    "    # print(AB.shape[0], AB.shape[1])\n",
    "    \n",
    "    #reshape L abd AB tensors\n",
    "    #this means a batch of 1 image of shape 400x400\n",
    "    L = L.reshape(360, 360, 1)\n",
    "    AB = AB.reshape(360, 360, 2)\n",
    "    return L, AB"
   ]
  },
  {
   "cell_type": "code",
   "execution_count": 206,
   "id": "3c395236-af15-4af3-8516-77dfa2af5a7a",
   "metadata": {},
   "outputs": [],
   "source": [
    "Ls = []\n",
    "ABs = []\n",
    "for filename in os.listdir('input/'):\n",
    "    if os. path. isdir('input/'+filename):\n",
    "        continue\n",
    "    try:\n",
    "        L, AB = preprocessImg('input/'+filename)\n",
    "        Ls.append(L)\n",
    "        ABs.append(AB)\n",
    "    except:\n",
    "        continue\n",
    "\n",
    "# Set up train and test data\n",
    "split = int(0.95*len(L))\n",
    "Ltrain = Ls[:split]\n",
    "ABtrain = ABs[:split]\n"
   ]
  },
  {
   "cell_type": "code",
   "execution_count": 203,
   "id": "a3f708c3-6f1b-4570-8fa5-85c0240483f7",
   "metadata": {},
   "outputs": [],
   "source": [
    "def model(Ltrain, ABtrain):\n",
    "    # Building the neural network\n",
    "    model = Sequential()\n",
    "    model.add(InputLayer(input_shape=(None, None, 1)))\n",
    "    model.add(Conv2D(8, (3, 3), activation='relu', padding='same', strides=2))\n",
    "    model.add(Conv2D(8, (3, 3), activation='relu', padding='same'))\n",
    "    model.add(Conv2D(16, (3, 3), activation='relu', padding='same', strides=2))\n",
    "    model.add(Conv2D(16, (3, 3), activation='relu', padding='same'))\n",
    "    model.add(Conv2D(32, (3, 3), activation='relu', padding='same', strides=2))\n",
    "    model.add(Conv2D(32, (3, 3), activation='relu', padding='same'))\n",
    "    model.add(UpSampling2D((2, 2)))\n",
    "    model.add(Conv2D(32, (3, 3), activation='relu', padding='same'))\n",
    "    model.add(UpSampling2D((2, 2)))\n",
    "    model.add(Conv2D(16, (3, 3), activation='relu', padding='same'))\n",
    "    model.add(UpSampling2D((2, 2)))\n",
    "    model.add(Conv2D(8, (3, 3), activation='relu', padding='same'))\n",
    "    # model.add(UpSampling2D((2, 2)))\n",
    "    model.add(Conv2D(2, (3, 3), activation='tanh', padding='same'))\n",
    "    model.compile(optimizer='rmsprop',loss='mse')\n",
    "    \n",
    "    \n",
    "    datagen = ImageDataGenerator()\n",
    "        # shear_range=0.2,\n",
    "        # zoom_range=0.2,\n",
    "        # rotation_range=20,\n",
    "        # horizontal_flip=True)\n",
    "\n",
    "    # Generate training data\n",
    "    batch_size = 10\n",
    "    def imageGen(batch_size):\n",
    "        for Lbatch, ABbatch in datagen.flow(Ltrain, ABtrain, batch_size=batch_size):\n",
    "            yield (Lbatch.reshape(Lbatch.shape+(1,)), ABbatch)\n",
    "\n",
    "    # Train model      \n",
    "    tensorboard = TensorBoard(log_dir=\"output/first_run\")\n",
    "    # model.fit(imageGen(batch_size), epochs=1, steps_per_epoch=10)\n",
    "    model.fit(Ltrain, ABtrain, batch_size = 10, epochs=10)\n",
    "    model_json = model.to_json()\n",
    "    with open(\"model.json\", \"w\") as json_file:\n",
    "        json_file.write(model_json)\n",
    "    model.save_weights(\"model.h5\")\n",
    "\n",
    "#     model.fit(x=L, \n",
    "#     y=AB,\n",
    "#     batch_size=1,\n",
    "#     epochs=1000)\n",
    "#     model.save('./tmp/model')\n",
    "    return model"
   ]
  },
  {
   "cell_type": "code",
   "execution_count": 138,
   "id": "416263ad-2d47-4441-b4f8-60c11e4a4247",
   "metadata": {},
   "outputs": [],
   "source": [
    "def convertImg(img, model):\n",
    "    L, AB = preprocessImg(img)\n",
    "    print(L.shape)\n",
    "    output = model.predict(L)\n",
    "    output *= 128\n",
    "    cur = np.zeros((360, 360, 3))\n",
    "    cur[:,:,0] = L[0][:,:,0]\n",
    "    cur[:,:,1:] = output[0]\n",
    "    return cur\n",
    "def saveImg(img, name):\n",
    "    colored = \"output/\" + name + \".png\"\n",
    "    gray = \"output/\" + name + \"_gray.png\"\n",
    "    io.imsave(colored, color.lab2rgb(img))\n",
    "    io.imsave(gray, color.rgb2gray(color.lab2rgb(img)))"
   ]
  },
  {
   "cell_type": "code",
   "execution_count": 1,
   "id": "6affb6f2-020c-42ff-900b-98368d4955c7",
   "metadata": {},
   "outputs": [
    {
     "ename": "NameError",
     "evalue": "name 'preprocessImg' is not defined",
     "output_type": "error",
     "traceback": [
      "\u001b[0;31m---------------------------------------------------------------------------\u001b[0m",
      "\u001b[0;31mNameError\u001b[0m                                 Traceback (most recent call last)",
      "Input \u001b[0;32mIn [1]\u001b[0m, in \u001b[0;36m<cell line: 3>\u001b[0;34m()\u001b[0m\n\u001b[1;32m      1\u001b[0m path \u001b[38;5;241m=\u001b[39m \u001b[38;5;124m\"\u001b[39m\u001b[38;5;124minput/\u001b[39m\u001b[38;5;124m\"\u001b[39m\n\u001b[1;32m      2\u001b[0m image1 \u001b[38;5;241m=\u001b[39m \u001b[38;5;124m\"\u001b[39m\u001b[38;5;124mwoman.jpg\u001b[39m\u001b[38;5;124m\"\u001b[39m\n\u001b[0;32m----> 3\u001b[0m L, AB \u001b[38;5;241m=\u001b[39m \u001b[43mpreprocessImg\u001b[49m(path\u001b[38;5;241m+\u001b[39mimage1)\n\u001b[1;32m      4\u001b[0m \u001b[38;5;66;03m# try:\u001b[39;00m\n\u001b[1;32m      5\u001b[0m \u001b[38;5;66;03m#     loaded_model = tf.keras.models.load_model('./tmp/model')\u001b[39;00m\n\u001b[1;32m      6\u001b[0m \u001b[38;5;66;03m# except:\u001b[39;00m\n\u001b[1;32m      7\u001b[0m \u001b[38;5;66;03m#     loaded_model = model(L, AB)\u001b[39;00m\n\u001b[1;32m      8\u001b[0m Ltrain \u001b[38;5;241m=\u001b[39m np\u001b[38;5;241m.\u001b[39marray(Ltrain, dtype\u001b[38;5;241m=\u001b[39m\u001b[38;5;28mfloat\u001b[39m)\n",
      "\u001b[0;31mNameError\u001b[0m: name 'preprocessImg' is not defined"
     ]
    }
   ],
   "source": [
    "path = \"input/\"\n",
    "image1 = \"woman.jpg\"\n",
    "L, AB = preprocessImg(path+image1)\n",
    "# try:\n",
    "#     loaded_model = tf.keras.models.load_model('./tmp/model')\n",
    "# except:\n",
    "#     loaded_model = model(L, AB)\n",
    "Ltrain = np.array(Ltrain, dtype=float)\n",
    "ABtrain = np.array(ABtrain, dtype=float)\n",
    "print(Ltrain.shape)\n",
    "print(ABtrain.shape)\n",
    "loaded_model = model(Ltrain, ABtrain)\n",
    "# print(loaded_model.evaluate(L, AB, batch_size=1))"
   ]
  },
  {
   "cell_type": "code",
   "execution_count": 116,
   "id": "4d45a8d9-175a-4e27-a1b2-118dc480b318",
   "metadata": {},
   "outputs": [
    {
     "name": "stdout",
     "output_type": "stream",
     "text": [
      "(400, 400, 2)\n"
     ]
    },
    {
     "name": "stderr",
     "output_type": "stream",
     "text": [
      "Lossy conversion from float64 to uint8. Range [0, 1]. Convert image to uint8 prior to saving to suppress this warning.\n",
      "Lossy conversion from float64 to uint8. Range [0, 1]. Convert image to uint8 prior to saving to suppress this warning.\n"
     ]
    }
   ],
   "source": [
    "saveImg(convertImg('input/woman.jpg', loaded_model), \"woman\")\n"
   ]
  },
  {
   "cell_type": "code",
   "execution_count": 139,
   "id": "fbe6684f-3d93-489a-9094-0837dcc87268",
   "metadata": {},
   "outputs": [
    {
     "name": "stderr",
     "output_type": "stream",
     "text": [
      "Lossy conversion from float64 to uint8. Range [0, 1]. Convert image to uint8 prior to saving to suppress this warning.\n"
     ]
    },
    {
     "name": "stdout",
     "output_type": "stream",
     "text": [
      "(1, 360, 360, 1)\n"
     ]
    },
    {
     "name": "stderr",
     "output_type": "stream",
     "text": [
      "Lossy conversion from float64 to uint8. Range [0, 1]. Convert image to uint8 prior to saving to suppress this warning.\n"
     ]
    }
   ],
   "source": [
    "saveImg(convertImg('input/0_0.tif', loaded_model), \"0_0\")"
   ]
  },
  {
   "cell_type": "code",
   "execution_count": null,
   "id": "ee86c866-1e04-4de4-a1a4-7e3beafe8cbc",
   "metadata": {},
   "outputs": [],
   "source": []
  }
 ],
 "metadata": {
  "kernelspec": {
   "display_name": "Python 3 (ipykernel)",
   "language": "python",
   "name": "python3"
  },
  "language_info": {
   "codemirror_mode": {
    "name": "ipython",
    "version": 3
   },
   "file_extension": ".py",
   "mimetype": "text/x-python",
   "name": "python",
   "nbconvert_exporter": "python",
   "pygments_lexer": "ipython3",
   "version": "3.8.10"
  }
 },
 "nbformat": 4,
 "nbformat_minor": 5
}
